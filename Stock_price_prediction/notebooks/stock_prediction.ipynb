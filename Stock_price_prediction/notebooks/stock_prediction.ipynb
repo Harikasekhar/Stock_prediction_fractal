{
 "cells": [
  {
   "cell_type": "code",
   "execution_count": null,
   "metadata": {},
   "outputs": [],
   "source": [
    "# !pip install yfinance\n",
    "# !pip install scikit-learn"
   ]
  },
  {
   "cell_type": "code",
   "execution_count": null,
   "metadata": {},
   "outputs": [],
   "source": [
    "###Importing libraries\n",
    "import pandas as pd\n",
    "import numpy as np\n",
    "import yfinance as yf  # We will use this library to upload latest data from Yahoo API\n",
    "import os, sys\n",
    "import matplotlib.pyplot as plt\n",
    "plt.style.use('fivethirtyeight')\n",
    "from sklearn.model_selection import train_test_split\n",
    "#currentdir = os.path.dirname(os.path.realpath(__file__))\n",
    "currentdir = os.getcwd()\n",
    "parentdir = os.path.dirname(currentdir)\n",
    "sys.path.append(parentdir)\n",
    "# Importing custom functions\n",
    "from src.data_collection import get_stock_data\n",
    "from src.model_building import perform_linear_regression, perform_tuned_regression,train_xgboost_model_tuned,train_xgboost_model\n",
    "from src.data_preprocessing import preprocess_stock_data\n",
    "from src.feature_engineering import cal_ex_moving_avg, calculate_rsi\n",
    "from src.model_evaluation import evaluate_model\n",
    "from src.utils import save_model,save_raw_data,save_processed_data"
   ]
  },
  {
   "cell_type": "code",
   "execution_count": null,
   "metadata": {},
   "outputs": [],
   "source": [
    "# Function to get stock data\n",
    "def get_stock_df(stock_name, period):\n",
    "    \"\"\"This functions helps in getting the stock data \n",
    "    from yahoo finance API\"\"\"\n",
    "    stock_df = get_stock_data(stock_name, period)\n",
    "    return stock_df"
   ]
  },
  {
   "cell_type": "code",
   "execution_count": null,
   "metadata": {},
   "outputs": [],
   "source": [
    "# Function to calculate momentum and plot buy/sell signals\n",
    "def calculate_momentum(stock_data):\n",
    "    \"\"\"\n",
    "    Calculate the momentum of stock data.\n",
    "\n",
    "    Parameters:\n",
    "    - stock_data (DataFrame): DataFrame containing stock data with a 'Close' column.\n",
    "\n",
    "    Returns:\n",
    "    - DataFrame: Original DataFrame with an added 'momentum' column representing the percentage change in closing prices.\n",
    "    \"\"\"\n",
    "    stock_data['momentum'] = stock_data['Close'].pct_change()\n",
    "    return stock_data"
   ]
  },
  {
   "cell_type": "code",
   "execution_count": null,
   "metadata": {},
   "outputs": [],
   "source": [
    "def calculate_features(stock_data):\n",
    "    \"\"\"\n",
    "    Calculate Exponential Moving Average (EMA) and Relative Strength Index (RSI) for stock data.\n",
    "\n",
    "    Parameters:\n",
    "    - stock_data (DataFrame): DataFrame containing stock data.\n",
    "\n",
    "    Returns:\n",
    "    - DataFrame: Original DataFrame with additional columns for EMA and RSI.\n",
    "    \"\"\"\n",
    "    stock_data = cal_ex_moving_avg(stock_data, EMA_window=3)\n",
    "    stock_data = calculate_rsi(stock_data, window_days=14)\n",
    "    return stock_data\n"
   ]
  },
  {
   "cell_type": "code",
   "execution_count": null,
   "metadata": {},
   "outputs": [],
   "source": [
    "def split_data(stock_data):\n",
    "    \"\"\"\n",
    "    Split stock data into training and testing sets.\n",
    "\n",
    "    Parameters:\n",
    "    - stock_data (DataFrame): DataFrame containing stock data with columns 'Open', 'High', 'Low', 'Volume', 'EMA', 'RSI', and 'Close'.\n",
    "\n",
    "    Returns:\n",
    "    - tuple: A tuple containing four elements - train_x (training features), test_x (testing features), train_y (training target), test_y (testing target).\n",
    "    \"\"\"\n",
    "    x = stock_data[['Open', 'High', 'Low', 'Volume', 'EMA', 'RSI']]\n",
    "    y = stock_data['Close']\n",
    "    train_x, test_x, train_y, test_y = train_test_split(x, y, test_size=0.15, shuffle=False, random_state=0)\n",
    "    return train_x, test_x, train_y, test_y"
   ]
  },
  {
   "cell_type": "code",
   "execution_count": null,
   "metadata": {},
   "outputs": [],
   "source": [
    "def df_plot(data, x, y, title=\"\", xlabel='Date', ylabel='Value', dpi=100):\n",
    "    \"\"\"\n",
    "    Plot visualizations of stock data.\n",
    "\n",
    "    Parameters:\n",
    "    - data (DataFrame): DataFrame containing stock data.\n",
    "    - x (array-like): X-axis data, typically representing dates.\n",
    "    - y (array-like): Y-axis data, corresponding to the values to be plotted.\n",
    "    - title (str): Title of the plot (default is an empty string).\n",
    "    - xlabel (str): Label for the X-axis (default is 'Date').\n",
    "    - ylabel (str): Label for the Y-axis (default is 'Value').\n",
    "    - dpi (int): Dots per inch for the resolution of the plot (default is 100).\n",
    "\n",
    "    Returns:\n",
    "    - None\n",
    "    \"\"\"\n",
    "    plt.figure(figsize=(10, 3), dpi=dpi)\n",
    "    plt.plot(x, y, color='tab:red')\n",
    "    plt.gca().set(title=title, xlabel=xlabel, ylabel=ylabel)\n",
    "    plt.show()"
   ]
  },
  {
   "cell_type": "code",
   "execution_count": null,
   "metadata": {},
   "outputs": [],
   "source": [
    "stock_name = \"NIO\"\n",
    "period = \"2mo\"\n",
    "\n",
    "# Step 1: Get stock data\n",
    "stock_data = get_stock_df(stock_name, period)\n",
    "print(stock_data.shape)\n",
    "stock_data.head(5)"
   ]
  },
  {
   "cell_type": "code",
   "execution_count": null,
   "metadata": {},
   "outputs": [],
   "source": [
    "data_dir = \"D:/Python/Stock_price_prediction/Stock_price_prediction/data/raw\""
   ]
  },
  {
   "cell_type": "code",
   "execution_count": null,
   "metadata": {},
   "outputs": [],
   "source": [
    "save_raw_data(stock_data,stock_name,data_dir)"
   ]
  },
  {
   "cell_type": "code",
   "execution_count": null,
   "metadata": {},
   "outputs": [],
   "source": [
    "# Step 2: Preprocess stock data\n",
    "stock_data = preprocess_stock_data(stock_data)"
   ]
  },
  {
   "cell_type": "code",
   "execution_count": null,
   "metadata": {},
   "outputs": [],
   "source": [
    "# Step 3: Plot stock data\n",
    "df_plot(stock_data, stock_data.index, stock_data['Close'], title=(stock_name, \"History stock performance till date\"))"
   ]
  },
  {
   "cell_type": "code",
   "execution_count": null,
   "metadata": {},
   "outputs": [],
   "source": [
    "# Step 4: Calculate momentum and plot buy/sell signals\n",
    "stock_data = calculate_momentum(stock_data)\n",
    "df_plot(stock_data, stock_data.index, stock_data['momentum'], title=(stock_name, \"Momentum Changes\"))"
   ]
  },
  {
   "cell_type": "code",
   "execution_count": null,
   "metadata": {},
   "outputs": [],
   "source": [
    "# Step 5: Calculate EMA and RSI\n",
    "stock_data = calculate_features(stock_data)\n",
    "stock_data.head(5)"
   ]
  },
  {
   "cell_type": "code",
   "execution_count": null,
   "metadata": {},
   "outputs": [],
   "source": [
    "data_dir = \"D:/Python/Stock_price_prediction/Stock_price_prediction/data/processed\"\n",
    "save_processed_data(stock_data,stock_name,data_dir)"
   ]
  },
  {
   "cell_type": "code",
   "execution_count": null,
   "metadata": {},
   "outputs": [],
   "source": [
    "# Step 6: Split data into training and testing sets\n",
    "train_x, test_x, train_y, test_y = split_data(stock_data)\n",
    "\n",
    "print(train_x.shape)\n",
    "print(test_x.shape)\n",
    "print(train_y.shape)\n",
    "print(test_y.shape)"
   ]
  },
  {
   "cell_type": "code",
   "execution_count": null,
   "metadata": {},
   "outputs": [],
   "source": [
    "# Step 7: Perform linear regression without hyperparameter tuning\n",
    "model_before_tuning, X_train, X_test, y_train, y_test = perform_linear_regression(train_x, test_x, train_y,test_y)\n",
    "\n",
    "# Make predictions\n",
    "predicted_prices_before_tuning = model_before_tuning.predict(X_test)\n",
    "\n",
    "# Evaluate model\n",
    "evaluation_metrics_before_tuning = evaluate_model(y_test, predicted_prices_before_tuning)"
   ]
  },
  {
   "cell_type": "code",
   "execution_count": null,
   "metadata": {},
   "outputs": [],
   "source": [
    "# Step 8: Evaluate results before tuning\n",
    "print(\"Results before hyperparameter tuning:\")\n",
    "print(\"Evaluation metrics before tuning:\")\n",
    "print(\"Confidence (R-squared) before tuning:\", evaluation_metrics_before_tuning[\"R-squared Score\"])\n",
    "print(\"Mean Squared Error before tuning:\", evaluation_metrics_before_tuning[\"Mean Squared Error\"])\n",
    "print(\"Mean Absolute Percentage Error (MAPE) before tuning:\", evaluation_metrics_before_tuning[\"Mean Absolute Percentage Error (MAPE)\"])\n"
   ]
  },
  {
   "cell_type": "code",
   "execution_count": null,
   "metadata": {},
   "outputs": [],
   "source": [
    "# Step 9: Perform linear regression with hyperparameter tuning\n",
    "model_after_tuning, confidence_after_tuning_lr, predicted_prices_after_tuning, evaluation_metrics_after_tuning = perform_tuned_regression(train_x, test_x, train_y, test_y)\n",
    "\n",
    "# Step 10: Evaluate results after tuning\n",
    "print(\"\\nResults after hyperparameter tuning:\")\n",
    "print(\"Confidence (R-squared) after tuning:\", confidence_after_tuning_lr)\n",
    "print(\"Mean Squared Error after tuning:\", evaluation_metrics_after_tuning[\"Mean Squared Error\"])\n",
    "print(\"Mean Absolute Percentage Error (MAPE) after tuning:\", evaluation_metrics_after_tuning[\"Mean Absolute Percentage Error (MAPE)\"])\n",
    "\n"
   ]
  },
  {
   "cell_type": "code",
   "execution_count": null,
   "metadata": {},
   "outputs": [],
   "source": [
    "# Train the XGBoost model\n",
    "trained_model, X_train_used, y_train_used, X_test_used, y_test_used = train_xgboost_model(X_train, y_train, X_test, y_test)\n",
    "\n",
    "# Predict the test data\n",
    "y_pred = trained_model.predict(X_test_used)\n",
    "\n",
    "# Evaluate the trained model using your evaluate_model function\n",
    "evaluation_metrics_before_tuning_xgb = evaluate_model(y_test_used, y_pred)\n",
    "\n",
    "# Print or use the evaluation results as needed\n",
    "print(\"XGBoost Results before hyperparameter tuning:\")\n",
    "print(\"Evaluation metrics before tuning:\")\n",
    "print(\"Confidence (R-squared) before tuning:\", evaluation_metrics_before_tuning_xgb[\"R-squared Score\"])\n",
    "print(\"Mean Squared Error before tuning:\", evaluation_metrics_before_tuning_xgb[\"Mean Squared Error\"])\n",
    "print(\"Mean Absolute Percentage Error (MAPE) before tuning:\", evaluation_metrics_before_tuning_xgb[\"Mean Absolute Percentage Error (MAPE)\"])\n"
   ]
  },
  {
   "cell_type": "code",
   "execution_count": null,
   "metadata": {},
   "outputs": [],
   "source": [
    "### Define the hyperparameters grid for tuning\n",
    "params = {\n",
    "    'learning_rate': [0.1, 0.01, 0.001],\n",
    "    'max_depth': [3, 5, 7],\n",
    "    'n_estimators': [100, 500, 1000],\n",
    "    'subsample': [0.6, 0.8, 1.0],\n",
    "    'colsample_bytree': [0.6, 0.8, 1.0],\n",
    "    # 'reg_alpha': [0, 0.1, 0.5, 1],  # L1 regularization\n",
    "    # 'reg_lambda': [0, 0.1, 0.5, 1] \n",
    "}"
   ]
  },
  {
   "cell_type": "code",
   "execution_count": null,
   "metadata": {},
   "outputs": [],
   "source": [
    "###Training XGBOOST with hyperparameters\n",
    "res_tuple = train_xgboost_model_tuned(X_train, y_train, X_test, y_test, params)\n",
    "best_model, best_params = res_tuple[:2]  # Extract the first two elements"
   ]
  },
  {
   "cell_type": "code",
   "execution_count": null,
   "metadata": {},
   "outputs": [],
   "source": [
    "####predicting on X test data\n",
    "y_pred = best_model.predict(X_test)"
   ]
  },
  {
   "cell_type": "code",
   "execution_count": null,
   "metadata": {},
   "outputs": [],
   "source": [
    "###evaluate the best model separately using your evaluate_model function\n",
    "evaluation_metrics_after_tuning_xgb = evaluate_model( y_test,y_pred)\n",
    "\n",
    "# Print or use the evaluation metrics as needed\n",
    "print(\"Evaluation Metrics:\")\n",
    "print(\"\\nResults after hyperparameter tuning:\")\n",
    "print(\"Confidence (R-squared) after tuning:\", evaluation_metrics_after_tuning_xgb['R-squared Score'])\n",
    "print(\"Mean Squared Error after tuning:\", evaluation_metrics_after_tuning_xgb[\"Mean Squared Error\"])\n",
    "print(\"Mean Absolute Percentage Error (MAPE) after tuning:\", evaluation_metrics_after_tuning_xgb[\"Mean Absolute Percentage Error (MAPE)\"])"
   ]
  },
  {
   "cell_type": "code",
   "execution_count": null,
   "metadata": {},
   "outputs": [],
   "source": [
    "# Define the results and model names\n",
    "model_names = ['Linear Before Tuning', 'Linear After Tuning', 'XGBoost Before Tuning', 'XGBoost After Tuning']\n",
    "mse_values = [evaluation_metrics_before_tuning[\"Mean Squared Error\"], evaluation_metrics_after_tuning[\"Mean Squared Error\"],\n",
    "              evaluation_metrics_before_tuning_xgb[\"Mean Squared Error\"], evaluation_metrics_after_tuning_xgb[\"Mean Squared Error\"]]\n",
    "confidence_values = [evaluation_metrics_before_tuning['R-squared Score'], evaluation_metrics_after_tuning['R-squared Score'],evaluation_metrics_before_tuning_xgb[\"R-squared Score\"] ,evaluation_metrics_after_tuning_xgb['R-squared Score'] ]  # Fill in with actual confidence values\n",
    "mape_values = [evaluation_metrics_before_tuning[\"Mean Absolute Percentage Error (MAPE)\"], evaluation_metrics_after_tuning[\"Mean Absolute Percentage Error (MAPE)\"],\n",
    "               evaluation_metrics_before_tuning_xgb[\"Mean Absolute Percentage Error (MAPE)\"], evaluation_metrics_after_tuning_xgb[\"Mean Absolute Percentage Error (MAPE)\"]]\n",
    "\n",
    "# Create DataFrame\n",
    "results_df = pd.DataFrame({\n",
    "    'Model Name': model_names,\n",
    "    'MSE': mse_values,\n",
    "    'Confidence (R-squared)': confidence_values,\n",
    "    'MAPE': mape_values\n",
    "})\n",
    "\n",
    "# Print the DataFrame\n",
    "print(results_df)"
   ]
  },
  {
   "cell_type": "code",
   "execution_count": null,
   "metadata": {},
   "outputs": [],
   "source": [
    "# Calculate the baseline MSE based on the minimum MSE among the models\n",
    "baseline_mse = results_df['MSE'].min()\n",
    "\n",
    "# Compare results and save the best model if it meets the criteria\n",
    "best_model_name = results_df.loc[results_df['MSE'].idxmin(), 'Model Name']\n",
    "best_model_mse = results_df.loc[results_df['MSE'].idxmin(), 'MSE']\n",
    "\n",
    "# Get the best model object based on the best_model_name\n",
    "if best_model_name == 'Linear Before Tuning':\n",
    "    best_model = perform_linear_regression\n",
    "elif best_model_name == 'Linear After Tuning':\n",
    "    best_model = perform_tuned_regression\n",
    "elif best_model_name == 'XGBoost Before Tuning':\n",
    "    best_model = train_xgboost_model\n",
    "elif best_model_name == 'XGBoost After Tuning':\n",
    "    best_model = train_xgboost_model_tuned\n",
    "else:\n",
    "    best_model = None\n",
    "\n",
    "# Save the best model if it's not None\n",
    "if best_model is not None:\n",
    "    model_dir = 'D:\\\\Python\\\\Stock_price_prediction\\\\Stock_price_prediction\\\\models'\n",
    "    save_model(best_model,stock_name,best_model_name,model_dir)\n",
    "    print(\"Best model saved successfully.\")\n",
    "else:\n",
    "    print(\"No improvement in model performance. Best model not saved.\")\n",
    "\n"
   ]
  },
  {
   "cell_type": "code",
   "execution_count": null,
   "metadata": {},
   "outputs": [],
   "source": []
  },
  {
   "cell_type": "code",
   "execution_count": null,
   "metadata": {},
   "outputs": [],
   "source": []
  },
  {
   "cell_type": "code",
   "execution_count": null,
   "metadata": {},
   "outputs": [],
   "source": []
  }
 ],
 "metadata": {
  "kernelspec": {
   "display_name": "Python 3",
   "language": "python",
   "name": "python3"
  },
  "language_info": {
   "codemirror_mode": {
    "name": "ipython",
    "version": 3
   },
   "file_extension": ".py",
   "mimetype": "text/x-python",
   "name": "python",
   "nbconvert_exporter": "python",
   "pygments_lexer": "ipython3",
   "version": "3.12.0"
  }
 },
 "nbformat": 4,
 "nbformat_minor": 2
}
