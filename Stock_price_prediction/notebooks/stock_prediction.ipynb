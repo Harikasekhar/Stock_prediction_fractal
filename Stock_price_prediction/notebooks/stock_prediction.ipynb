{
 "cells": [
  {
   "cell_type": "code",
   "execution_count": 29,
   "metadata": {},
   "outputs": [],
   "source": [
    "# !pip install yfinance\n",
    "# !pip install scikit-learn"
   ]
  },
  {
   "cell_type": "code",
   "execution_count": 1,
   "metadata": {},
   "outputs": [],
   "source": [
    "###Importing libraries\n",
    "import pandas as pd\n",
    "import numpy as np\n",
    "import yfinance as yf  # We will use this library to upload latest data from Yahoo API\n",
    "import os, sys\n",
    "import matplotlib.pyplot as plt\n",
    "plt.style.use('fivethirtyeight')\n",
    "from sklearn.model_selection import train_test_split\n",
    "#currentdir = os.path.dirname(os.path.realpath(__file__))\n",
    "currentdir = os.getcwd()\n",
    "parentdir = os.path.dirname(currentdir)\n",
    "sys.path.append(parentdir)\n",
    "# Importing custom functions\n",
    "from src.data_collection import get_stock_data\n",
    "from src.model_building import perform_linear_regression, perform_tuned_regression,train_xgboost_model_tuned,train_xgboost_model\n",
    "from src.data_preprocessing import preprocess_stock_data\n",
    "from src.feature_engineering import cal_ex_moving_avg, calculate_rsi\n",
    "from src.model_evaluation import evaluate_model\n",
    "from src.utils import save_model,save_raw_data,save_processed_data"
   ]
  },
  {
   "cell_type": "code",
   "execution_count": 2,
   "metadata": {},
   "outputs": [],
   "source": [
    "# Function to get stock data\n",
    "def get_stock_df(stock_name, period):\n",
    "    \"\"\"This functions helps in getting the stock data \n",
    "    from yahoo finance API\"\"\"\n",
    "    stock_df = get_stock_data(stock_name, period)\n",
    "    return stock_df"
   ]
  },
  {
   "cell_type": "code",
   "execution_count": 3,
   "metadata": {},
   "outputs": [],
   "source": [
    "# Function to calculate momentum and plot buy/sell signals\n",
    "def calculate_momentum(stock_data):\n",
    "    \"\"\"\n",
    "    Calculate the momentum of stock data.\n",
    "\n",
    "    Parameters:\n",
    "    - stock_data (DataFrame): DataFrame containing stock data with a 'Close' column.\n",
    "\n",
    "    Returns:\n",
    "    - DataFrame: Original DataFrame with an added 'momentum' column representing the percentage change in closing prices.\n",
    "    \"\"\"\n",
    "    stock_data['momentum'] = stock_data['Close'].pct_change()\n",
    "    return stock_data"
   ]
  },
  {
   "cell_type": "code",
   "execution_count": 4,
   "metadata": {},
   "outputs": [],
   "source": [
    "def calculate_features(stock_data):\n",
    "    \"\"\"\n",
    "    Calculate Exponential Moving Average (EMA) and Relative Strength Index (RSI) for stock data.\n",
    "\n",
    "    Parameters:\n",
    "    - stock_data (DataFrame): DataFrame containing stock data.\n",
    "\n",
    "    Returns:\n",
    "    - DataFrame: Original DataFrame with additional columns for EMA and RSI.\n",
    "    \"\"\"\n",
    "    stock_data = cal_ex_moving_avg(stock_data, EMA_window=3)\n",
    "    stock_data = calculate_rsi(stock_data, window_days=14)\n",
    "    return stock_data\n"
   ]
  },
  {
   "cell_type": "code",
   "execution_count": 5,
   "metadata": {},
   "outputs": [],
   "source": [
    "def split_data(stock_data):\n",
    "    \"\"\"\n",
    "    Split stock data into training and testing sets.\n",
    "\n",
    "    Parameters:\n",
    "    - stock_data (DataFrame): DataFrame containing stock data with columns 'Open', 'High', 'Low', 'Volume', 'EMA', 'RSI', and 'Close'.\n",
    "\n",
    "    Returns:\n",
    "    - tuple: A tuple containing four elements - train_x (training features), test_x (testing features), train_y (training target), test_y (testing target).\n",
    "    \"\"\"\n",
    "    x = stock_data[['Open', 'High', 'Low', 'Volume', 'EMA', 'RSI']]\n",
    "    y = stock_data['Close']\n",
    "    train_x, test_x, train_y, test_y = train_test_split(x, y, test_size=0.15, shuffle=False, random_state=0)\n",
    "    return train_x, test_x, train_y, test_y"
   ]
  },
  {
   "cell_type": "code",
   "execution_count": 6,
   "metadata": {},
   "outputs": [],
   "source": [
    "def df_plot(data, x, y, title=\"\", xlabel='Date', ylabel='Value'):\n",
    "    \"\"\"\n",
    "    Plot visualizations of stock data.\n",
    "\n",
    "    Parameters:\n",
    "    - data (DataFrame): DataFrame containing stock data.\n",
    "    - x (array-like): X-axis data, typically representing dates.\n",
    "    - y (array-like): Y-axis data, corresponding to the values to be plotted.\n",
    "    - title (str): Title of the plot (default is an empty string).\n",
    "    - xlabel (str): Label for the X-axis (default is 'Date').\n",
    "    - ylabel (str): Label for the Y-axis (default is 'Value').\n",
    "    - dpi (int): Dots per inch for the resolution of the plot (default is 100).\n",
    "\n",
    "    Returns:\n",
    "    - None\n",
    "    \"\"\"\n",
    "    plt.figure(figsize=(10, 3))\n",
    "    plt.plot(x, y, color='tab:red')\n",
    "    plt.gca().set(title=title, xlabel=xlabel, ylabel=ylabel)\n",
    "    plt.show()"
   ]
  },
  {
   "cell_type": "code",
   "execution_count": 7,
   "metadata": {},
   "outputs": [
    {
     "name": "stdout",
     "output_type": "stream",
     "text": [
      "NIO 2mo\n",
      "(41, 8)\n"
     ]
    },
    {
     "data": {
      "text/html": [
       "<div>\n",
       "<style scoped>\n",
       "    .dataframe tbody tr th:only-of-type {\n",
       "        vertical-align: middle;\n",
       "    }\n",
       "\n",
       "    .dataframe tbody tr th {\n",
       "        vertical-align: top;\n",
       "    }\n",
       "\n",
       "    .dataframe thead th {\n",
       "        text-align: right;\n",
       "    }\n",
       "</style>\n",
       "<table border=\"1\" class=\"dataframe\">\n",
       "  <thead>\n",
       "    <tr style=\"text-align: right;\">\n",
       "      <th></th>\n",
       "      <th>Date</th>\n",
       "      <th>Open</th>\n",
       "      <th>High</th>\n",
       "      <th>Low</th>\n",
       "      <th>Close</th>\n",
       "      <th>Volume</th>\n",
       "      <th>Dividends</th>\n",
       "      <th>Stock Splits</th>\n",
       "    </tr>\n",
       "  </thead>\n",
       "  <tbody>\n",
       "    <tr>\n",
       "      <th>0</th>\n",
       "      <td>2024-02-09 00:00:00-05:00</td>\n",
       "      <td>5.84</td>\n",
       "      <td>5.93</td>\n",
       "      <td>5.75</td>\n",
       "      <td>5.93</td>\n",
       "      <td>25563500</td>\n",
       "      <td>0.0</td>\n",
       "      <td>0.0</td>\n",
       "    </tr>\n",
       "    <tr>\n",
       "      <th>1</th>\n",
       "      <td>2024-02-12 00:00:00-05:00</td>\n",
       "      <td>5.91</td>\n",
       "      <td>6.28</td>\n",
       "      <td>5.90</td>\n",
       "      <td>6.08</td>\n",
       "      <td>43673000</td>\n",
       "      <td>0.0</td>\n",
       "      <td>0.0</td>\n",
       "    </tr>\n",
       "    <tr>\n",
       "      <th>2</th>\n",
       "      <td>2024-02-13 00:00:00-05:00</td>\n",
       "      <td>5.86</td>\n",
       "      <td>5.88</td>\n",
       "      <td>5.65</td>\n",
       "      <td>5.70</td>\n",
       "      <td>52054400</td>\n",
       "      <td>0.0</td>\n",
       "      <td>0.0</td>\n",
       "    </tr>\n",
       "    <tr>\n",
       "      <th>3</th>\n",
       "      <td>2024-02-14 00:00:00-05:00</td>\n",
       "      <td>5.88</td>\n",
       "      <td>6.02</td>\n",
       "      <td>5.84</td>\n",
       "      <td>6.00</td>\n",
       "      <td>41176800</td>\n",
       "      <td>0.0</td>\n",
       "      <td>0.0</td>\n",
       "    </tr>\n",
       "    <tr>\n",
       "      <th>4</th>\n",
       "      <td>2024-02-15 00:00:00-05:00</td>\n",
       "      <td>6.05</td>\n",
       "      <td>6.29</td>\n",
       "      <td>6.04</td>\n",
       "      <td>6.09</td>\n",
       "      <td>54076700</td>\n",
       "      <td>0.0</td>\n",
       "      <td>0.0</td>\n",
       "    </tr>\n",
       "  </tbody>\n",
       "</table>\n",
       "</div>"
      ],
      "text/plain": [
       "                       Date  Open  High   Low  Close    Volume  Dividends  \\\n",
       "0 2024-02-09 00:00:00-05:00  5.84  5.93  5.75   5.93  25563500        0.0   \n",
       "1 2024-02-12 00:00:00-05:00  5.91  6.28  5.90   6.08  43673000        0.0   \n",
       "2 2024-02-13 00:00:00-05:00  5.86  5.88  5.65   5.70  52054400        0.0   \n",
       "3 2024-02-14 00:00:00-05:00  5.88  6.02  5.84   6.00  41176800        0.0   \n",
       "4 2024-02-15 00:00:00-05:00  6.05  6.29  6.04   6.09  54076700        0.0   \n",
       "\n",
       "   Stock Splits  \n",
       "0           0.0  \n",
       "1           0.0  \n",
       "2           0.0  \n",
       "3           0.0  \n",
       "4           0.0  "
      ]
     },
     "execution_count": 7,
     "metadata": {},
     "output_type": "execute_result"
    }
   ],
   "source": [
    "stock_name = \"NIO\"\n",
    "period = \"2mo\"\n",
    "\n",
    "# Step 1: Get stock data\n",
    "stock_data = get_stock_df(stock_name, period)\n",
    "print(stock_data.shape)\n",
    "stock_data.head(5)"
   ]
  },
  {
   "cell_type": "code",
   "execution_count": 8,
   "metadata": {},
   "outputs": [],
   "source": [
    "data_dir = \"D:/Python/Stock_price_prediction/Stock_price_prediction/data/raw\""
   ]
  },
  {
   "cell_type": "code",
   "execution_count": 9,
   "metadata": {},
   "outputs": [
    {
     "name": "stdout",
     "output_type": "stream",
     "text": [
      "Raw data saved successfully as: D:/Python/Stock_price_prediction/Stock_price_prediction/data/raw\\NIO_raw_data.csv\n"
     ]
    }
   ],
   "source": [
    "save_raw_data(stock_data,stock_name,data_dir)"
   ]
  },
  {
   "cell_type": "code",
   "execution_count": 10,
   "metadata": {},
   "outputs": [],
   "source": [
    "# Step 2: Preprocess stock data\n",
    "stock_data = preprocess_stock_data(stock_data)"
   ]
  },
  {
   "cell_type": "code",
   "execution_count": 11,
   "metadata": {},
   "outputs": [
    {
     "data": {
      "image/png": "[encoded data removed]",
      "text/plain": [
       "<Figure size 1000x300 with 1 Axes>"
      ]
     },
     "metadata": {},
     "output_type": "display_data"
    }
   ],
   "source": [
    "# Step 3: Plot stock data\n",
    "df_plot(stock_data, stock_data.index, stock_data['Close'], title=(stock_name, \"History stock performance till date\"))"
   ]
  },
  {
   "cell_type": "code",
   "execution_count": 12,
   "metadata": {},
   "outputs": [
    {
     "data": {
      "image/png": "[encoded data removed]",
      "text/plain": [
       "<Figure size 1000x300 with 1 Axes>"
      ]
     },
     "metadata": {},
     "output_type": "display_data"
    }
   ],
   "source": [
    "# Step 4: Calculate momentum and plot buy/sell signals\n",
    "stock_data = calculate_momentum(stock_data)\n",
    "df_plot(stock_data, stock_data.index, stock_data['momentum'], title=(stock_name, \"Momentum Changes\"))"
   ]
  },
  {
   "cell_type": "code",
   "execution_count": 13,
   "metadata": {},
   "outputs": [
    {
     "data": {
      "text/html": [
       "<div>\n",
       "<style scoped>\n",
       "    .dataframe tbody tr th:only-of-type {\n",
       "        vertical-align: middle;\n",
       "    }\n",
       "\n",
       "    .dataframe tbody tr th {\n",
       "        vertical-align: top;\n",
       "    }\n",
       "\n",
       "    .dataframe thead th {\n",
       "        text-align: right;\n",
       "    }\n",
       "</style>\n",
       "<table border=\"1\" class=\"dataframe\">\n",
       "  <thead>\n",
       "    <tr style=\"text-align: right;\">\n",
       "      <th></th>\n",
       "      <th>Open</th>\n",
       "      <th>High</th>\n",
       "      <th>Low</th>\n",
       "      <th>Close</th>\n",
       "      <th>Volume</th>\n",
       "      <th>momentum</th>\n",
       "      <th>EMA</th>\n",
       "      <th>Price_Change</th>\n",
       "      <th>Gain</th>\n",
       "      <th>Loss</th>\n",
       "      <th>Avg_Gain</th>\n",
       "      <th>Avg_Loss</th>\n",
       "      <th>RS</th>\n",
       "      <th>RSI</th>\n",
       "    </tr>\n",
       "  </thead>\n",
       "  <tbody>\n",
       "    <tr>\n",
       "      <th>13</th>\n",
       "      <td>5.56</td>\n",
       "      <td>5.79</td>\n",
       "      <td>5.54</td>\n",
       "      <td>5.75</td>\n",
       "      <td>63187100</td>\n",
       "      <td>0.058932</td>\n",
       "      <td>5.661930</td>\n",
       "      <td>0.32</td>\n",
       "      <td>0.32</td>\n",
       "      <td>0.00</td>\n",
       "      <td>0.092857</td>\n",
       "      <td>0.105714</td>\n",
       "      <td>0.878378</td>\n",
       "      <td>46.762593</td>\n",
       "    </tr>\n",
       "    <tr>\n",
       "      <th>14</th>\n",
       "      <td>5.73</td>\n",
       "      <td>5.84</td>\n",
       "      <td>5.68</td>\n",
       "      <td>5.78</td>\n",
       "      <td>40933100</td>\n",
       "      <td>0.005217</td>\n",
       "      <td>5.720965</td>\n",
       "      <td>0.03</td>\n",
       "      <td>0.03</td>\n",
       "      <td>0.00</td>\n",
       "      <td>0.095000</td>\n",
       "      <td>0.105714</td>\n",
       "      <td>0.898649</td>\n",
       "      <td>47.330968</td>\n",
       "    </tr>\n",
       "    <tr>\n",
       "      <th>15</th>\n",
       "      <td>5.58</td>\n",
       "      <td>5.61</td>\n",
       "      <td>5.25</td>\n",
       "      <td>5.33</td>\n",
       "      <td>94275800</td>\n",
       "      <td>-0.077855</td>\n",
       "      <td>5.525482</td>\n",
       "      <td>-0.45</td>\n",
       "      <td>0.00</td>\n",
       "      <td>0.45</td>\n",
       "      <td>0.084286</td>\n",
       "      <td>0.137857</td>\n",
       "      <td>0.611399</td>\n",
       "      <td>37.942125</td>\n",
       "    </tr>\n",
       "    <tr>\n",
       "      <th>16</th>\n",
       "      <td>5.17</td>\n",
       "      <td>5.62</td>\n",
       "      <td>4.78</td>\n",
       "      <td>5.48</td>\n",
       "      <td>94784600</td>\n",
       "      <td>0.028143</td>\n",
       "      <td>5.502741</td>\n",
       "      <td>0.15</td>\n",
       "      <td>0.15</td>\n",
       "      <td>0.00</td>\n",
       "      <td>0.095000</td>\n",
       "      <td>0.110714</td>\n",
       "      <td>0.858065</td>\n",
       "      <td>46.180560</td>\n",
       "    </tr>\n",
       "    <tr>\n",
       "      <th>17</th>\n",
       "      <td>5.39</td>\n",
       "      <td>5.88</td>\n",
       "      <td>5.38</td>\n",
       "      <td>5.77</td>\n",
       "      <td>77698800</td>\n",
       "      <td>0.052920</td>\n",
       "      <td>5.636371</td>\n",
       "      <td>0.29</td>\n",
       "      <td>0.29</td>\n",
       "      <td>0.00</td>\n",
       "      <td>0.094286</td>\n",
       "      <td>0.110714</td>\n",
       "      <td>0.851613</td>\n",
       "      <td>45.993032</td>\n",
       "    </tr>\n",
       "  </tbody>\n",
       "</table>\n",
       "</div>"
      ],
      "text/plain": [
       "    Open  High   Low  Close    Volume  momentum       EMA  Price_Change  Gain  \\\n",
       "13  5.56  5.79  5.54   5.75  63187100  0.058932  5.661930          0.32  0.32   \n",
       "14  5.73  5.84  5.68   5.78  40933100  0.005217  5.720965          0.03  0.03   \n",
       "15  5.58  5.61  5.25   5.33  94275800 -0.077855  5.525482         -0.45  0.00   \n",
       "16  5.17  5.62  4.78   5.48  94784600  0.028143  5.502741          0.15  0.15   \n",
       "17  5.39  5.88  5.38   5.77  77698800  0.052920  5.636371          0.29  0.29   \n",
       "\n",
       "    Loss  Avg_Gain  Avg_Loss        RS        RSI  \n",
       "13  0.00  0.092857  0.105714  0.878378  46.762593  \n",
       "14  0.00  0.095000  0.105714  0.898649  47.330968  \n",
       "15  0.45  0.084286  0.137857  0.611399  37.942125  \n",
       "16  0.00  0.095000  0.110714  0.858065  46.180560  \n",
       "17  0.00  0.094286  0.110714  0.851613  45.993032  "
      ]
     },
     "execution_count": 13,
     "metadata": {},
     "output_type": "execute_result"
    }
   ],
   "source": [
    "# Step 5: Calculate EMA and RSI\n",
    "stock_data = calculate_features(stock_data)\n",
    "stock_data.head(5)"
   ]
  },
  {
   "cell_type": "code",
   "execution_count": 14,
   "metadata": {},
   "outputs": [
    {
     "name": "stdout",
     "output_type": "stream",
     "text": [
      "Processed data saved successfully as: D:/Python/Stock_price_prediction/Stock_price_prediction/data/processed\\NIO_processed_data.csv\n"
     ]
    }
   ],
   "source": [
    "data_dir = \"D:/Python/Stock_price_prediction/Stock_price_prediction/data/processed\"\n",
    "save_processed_data(stock_data,stock_name,data_dir)"
   ]
  },
  {
   "cell_type": "code",
   "execution_count": 15,
   "metadata": {},
   "outputs": [
    {
     "name": "stdout",
     "output_type": "stream",
     "text": [
      "(23, 6)\n",
      "(5, 6)\n",
      "(23,)\n",
      "(5,)\n"
     ]
    }
   ],
   "source": [
    "# Step 6: Split data into training and testing sets\n",
    "train_x, test_x, train_y, test_y = split_data(stock_data)\n",
    "\n",
    "print(train_x.shape)\n",
    "print(test_x.shape)\n",
    "print(train_y.shape)\n",
    "print(test_y.shape)"
   ]
  },
  {
   "cell_type": "code",
   "execution_count": 16,
   "metadata": {},
   "outputs": [],
   "source": [
    "# Step 7: Perform linear regression without hyperparameter tuning\n",
    "model_before_tuning, X_train, X_test, y_train, y_test = perform_linear_regression(train_x, test_x, train_y,test_y)\n",
    "\n",
    "# Make predictions\n",
    "predicted_prices_before_tuning = model_before_tuning.predict(X_test)\n",
    "\n",
    "# Evaluate model\n",
    "evaluation_metrics_before_tuning = evaluate_model(y_test, predicted_prices_before_tuning)"
   ]
  },
  {
   "cell_type": "code",
   "execution_count": 17,
   "metadata": {},
   "outputs": [
    {
     "name": "stdout",
     "output_type": "stream",
     "text": [
      "Results before hyperparameter tuning:\n",
      "Evaluation metrics before tuning:\n",
      "Confidence (R-squared) before tuning: 0.805177806193767\n",
      "Mean Squared Error before tuning: 0.0019313128862350933\n",
      "Mean Absolute Percentage Error (MAPE) before tuning: 0.7973019467305267\n"
     ]
    }
   ],
   "source": [
    "# Step 8: Evaluate results before tuning\n",
    "print(\"Results before hyperparameter tuning:\")\n",
    "print(\"Evaluation metrics before tuning:\")\n",
    "print(\"Confidence (R-squared) before tuning:\", evaluation_metrics_before_tuning[\"R-squared Score\"])\n",
    "print(\"Mean Squared Error before tuning:\", evaluation_metrics_before_tuning[\"Mean Squared Error\"])\n",
    "print(\"Mean Absolute Percentage Error (MAPE) before tuning:\", evaluation_metrics_before_tuning[\"Mean Absolute Percentage Error (MAPE)\"])\n"
   ]
  },
  {
   "cell_type": "code",
   "execution_count": 18,
   "metadata": {},
   "outputs": [
    {
     "name": "stdout",
     "output_type": "stream",
     "text": [
      "\n",
      "Results after hyperparameter tuning:\n",
      "Confidence (R-squared) after tuning: 0.7635502983305821\n",
      "Mean Squared Error after tuning: 0.002343975020806794\n",
      "Mean Absolute Percentage Error (MAPE) after tuning: 1.0304025526170446\n"
     ]
    },
    {
     "name": "stderr",
     "output_type": "stream",
     "text": [
      "c:\\Users\\hits-\\AppData\\Local\\Programs\\Python\\Python312\\Lib\\site-packages\\sklearn\\linear_model\\_ridge.py:204: LinAlgWarning: Ill-conditioned matrix (rcond=2.18957e-17): result may not be accurate.\n",
      "  return linalg.solve(A, Xy, assume_a=\"pos\", overwrite_a=True).T\n",
      "c:\\Users\\hits-\\AppData\\Local\\Programs\\Python\\Python312\\Lib\\site-packages\\sklearn\\linear_model\\_ridge.py:204: LinAlgWarning: Ill-conditioned matrix (rcond=1.55273e-17): result may not be accurate.\n",
      "  return linalg.solve(A, Xy, assume_a=\"pos\", overwrite_a=True).T\n",
      "c:\\Users\\hits-\\AppData\\Local\\Programs\\Python\\Python312\\Lib\\site-packages\\sklearn\\linear_model\\_ridge.py:204: LinAlgWarning: Ill-conditioned matrix (rcond=1.41874e-17): result may not be accurate.\n",
      "  return linalg.solve(A, Xy, assume_a=\"pos\", overwrite_a=True).T\n",
      "c:\\Users\\hits-\\AppData\\Local\\Programs\\Python\\Python312\\Lib\\site-packages\\sklearn\\linear_model\\_ridge.py:204: LinAlgWarning: Ill-conditioned matrix (rcond=1.42714e-17): result may not be accurate.\n",
      "  return linalg.solve(A, Xy, assume_a=\"pos\", overwrite_a=True).T\n",
      "c:\\Users\\hits-\\AppData\\Local\\Programs\\Python\\Python312\\Lib\\site-packages\\sklearn\\linear_model\\_ridge.py:204: LinAlgWarning: Ill-conditioned matrix (rcond=1.52759e-17): result may not be accurate.\n",
      "  return linalg.solve(A, Xy, assume_a=\"pos\", overwrite_a=True).T\n",
      "c:\\Users\\hits-\\AppData\\Local\\Programs\\Python\\Python312\\Lib\\site-packages\\sklearn\\linear_model\\_ridge.py:204: LinAlgWarning: Ill-conditioned matrix (rcond=1.74132e-17): result may not be accurate.\n",
      "  return linalg.solve(A, Xy, assume_a=\"pos\", overwrite_a=True).T\n",
      "c:\\Users\\hits-\\AppData\\Local\\Programs\\Python\\Python312\\Lib\\site-packages\\sklearn\\linear_model\\_ridge.py:204: LinAlgWarning: Ill-conditioned matrix (rcond=1.74132e-17): result may not be accurate.\n",
      "  return linalg.solve(A, Xy, assume_a=\"pos\", overwrite_a=True).T\n"
     ]
    }
   ],
   "source": [
    "# Step 9: Perform linear regression with hyperparameter tuning\n",
    "model_after_tuning, confidence_after_tuning_lr, predicted_prices_after_tuning, evaluation_metrics_after_tuning = perform_tuned_regression(train_x, test_x, train_y, test_y)\n",
    "\n",
    "# Step 10: Evaluate results after tuning\n",
    "print(\"\\nResults after hyperparameter tuning:\")\n",
    "print(\"Confidence (R-squared) after tuning:\", confidence_after_tuning_lr)\n",
    "print(\"Mean Squared Error after tuning:\", evaluation_metrics_after_tuning[\"Mean Squared Error\"])\n",
    "print(\"Mean Absolute Percentage Error (MAPE) after tuning:\", evaluation_metrics_after_tuning[\"Mean Absolute Percentage Error (MAPE)\"])\n",
    "\n"
   ]
  },
  {
   "cell_type": "code",
   "execution_count": 19,
   "metadata": {},
   "outputs": [
    {
     "name": "stdout",
     "output_type": "stream",
     "text": [
      "XGBoost Results before hyperparameter tuning:\n",
      "Evaluation metrics before tuning:\n",
      "Confidence (R-squared) before tuning: -0.831125065862387\n",
      "Mean Squared Error before tuning: 0.018152323238518876\n",
      "Mean Absolute Percentage Error (MAPE) before tuning: 2.7573690289067634\n"
     ]
    }
   ],
   "source": [
    "# Train the XGBoost model\n",
    "trained_model, X_train_used, y_train_used, X_test_used, y_test_used = train_xgboost_model(X_train, y_train, X_test, y_test)\n",
    "\n",
    "# Predict the test data\n",
    "y_pred = trained_model.predict(X_test_used)\n",
    "\n",
    "# Evaluate the trained model using your evaluate_model function\n",
    "evaluation_metrics_before_tuning_xgb = evaluate_model(y_test_used, y_pred)\n",
    "\n",
    "# Print or use the evaluation results as needed\n",
    "print(\"XGBoost Results before hyperparameter tuning:\")\n",
    "print(\"Evaluation metrics before tuning:\")\n",
    "print(\"Confidence (R-squared) before tuning:\", evaluation_metrics_before_tuning_xgb[\"R-squared Score\"])\n",
    "print(\"Mean Squared Error before tuning:\", evaluation_metrics_before_tuning_xgb[\"Mean Squared Error\"])\n",
    "print(\"Mean Absolute Percentage Error (MAPE) before tuning:\", evaluation_metrics_before_tuning_xgb[\"Mean Absolute Percentage Error (MAPE)\"])\n"
   ]
  },
  {
   "cell_type": "code",
   "execution_count": 20,
   "metadata": {},
   "outputs": [],
   "source": [
    "### Define the hyperparameters grid for tuning\n",
    "params = {\n",
    "    'learning_rate': [0.1, 0.01, 0.001],\n",
    "    'max_depth': [3, 5, 7],\n",
    "    'n_estimators': [100, 500, 1000],\n",
    "    'subsample': [0.6, 0.8, 1.0],\n",
    "    'colsample_bytree': [0.6, 0.8, 1.0],\n",
    "    # 'reg_alpha': [0, 0.1, 0.5, 1],  # L1 regularization\n",
    "    # 'reg_lambda': [0, 0.1, 0.5, 1] \n",
    "}"
   ]
  },
  {
   "cell_type": "code",
   "execution_count": 21,
   "metadata": {},
   "outputs": [
    {
     "name": "stdout",
     "output_type": "stream",
     "text": [
      "Fitting 5 folds for each of 243 candidates, totalling 1215 fits\n"
     ]
    }
   ],
   "source": [
    "###Training XGBOOST with hyperparameters\n",
    "res_tuple = train_xgboost_model_tuned(X_train, y_train, X_test, y_test, params)\n",
    "best_model, best_params = res_tuple[:2]  # Extract the first two elements"
   ]
  },
  {
   "cell_type": "code",
   "execution_count": 22,
   "metadata": {},
   "outputs": [],
   "source": [
    "####predicting on X test data\n",
    "y_pred = best_model.predict(X_test)"
   ]
  },
  {
   "cell_type": "code",
   "execution_count": 23,
   "metadata": {},
   "outputs": [
    {
     "name": "stdout",
     "output_type": "stream",
     "text": [
      "Evaluation Metrics:\n",
      "\n",
      "Results after hyperparameter tuning:\n",
      "Confidence (R-squared) after tuning: -0.12439562801649728\n",
      "Mean Squared Error after tuning: 0.011146367480978369\n",
      "Mean Absolute Percentage Error (MAPE) after tuning: 2.095771396506922\n"
     ]
    }
   ],
   "source": [
    "###evaluate the best model separately using your evaluate_model function\n",
    "evaluation_metrics_after_tuning_xgb = evaluate_model( y_test,y_pred)\n",
    "\n",
    "# Print or use the evaluation metrics as needed\n",
    "print(\"Evaluation Metrics:\")\n",
    "print(\"\\nResults after hyperparameter tuning:\")\n",
    "print(\"Confidence (R-squared) after tuning:\", evaluation_metrics_after_tuning_xgb['R-squared Score'])\n",
    "print(\"Mean Squared Error after tuning:\", evaluation_metrics_after_tuning_xgb[\"Mean Squared Error\"])\n",
    "print(\"Mean Absolute Percentage Error (MAPE) after tuning:\", evaluation_metrics_after_tuning_xgb[\"Mean Absolute Percentage Error (MAPE)\"])"
   ]
  },
  {
   "cell_type": "code",
   "execution_count": 24,
   "metadata": {},
   "outputs": [
    {
     "name": "stdout",
     "output_type": "stream",
     "text": [
      "              Model Name       MSE  Confidence (R-squared)      MAPE\n",
      "0   Linear Before Tuning  0.001931                0.805178  0.797302\n",
      "1    Linear After Tuning  0.002344                0.763550  1.030403\n",
      "2  XGBoost Before Tuning  0.018152               -0.831125  2.757369\n",
      "3   XGBoost After Tuning  0.011146               -0.124396  2.095771\n"
     ]
    }
   ],
   "source": [
    "# Define the results and model names\n",
    "model_names = ['Linear Before Tuning', 'Linear After Tuning', 'XGBoost Before Tuning', 'XGBoost After Tuning']\n",
    "mse_values = [evaluation_metrics_before_tuning[\"Mean Squared Error\"], evaluation_metrics_after_tuning[\"Mean Squared Error\"],\n",
    "              evaluation_metrics_before_tuning_xgb[\"Mean Squared Error\"], evaluation_metrics_after_tuning_xgb[\"Mean Squared Error\"]]\n",
    "confidence_values = [evaluation_metrics_before_tuning['R-squared Score'], evaluation_metrics_after_tuning['R-squared Score'],evaluation_metrics_before_tuning_xgb[\"R-squared Score\"] ,evaluation_metrics_after_tuning_xgb['R-squared Score'] ]  # Fill in with actual confidence values\n",
    "mape_values = [evaluation_metrics_before_tuning[\"Mean Absolute Percentage Error (MAPE)\"], evaluation_metrics_after_tuning[\"Mean Absolute Percentage Error (MAPE)\"],\n",
    "               evaluation_metrics_before_tuning_xgb[\"Mean Absolute Percentage Error (MAPE)\"], evaluation_metrics_after_tuning_xgb[\"Mean Absolute Percentage Error (MAPE)\"]]\n",
    "\n",
    "# Create DataFrame\n",
    "results_df = pd.DataFrame({\n",
    "    'Model Name': model_names,\n",
    "    'MSE': mse_values,\n",
    "    'Confidence (R-squared)': confidence_values,\n",
    "    'MAPE': mape_values\n",
    "})\n",
    "\n",
    "# Print the DataFrame\n",
    "print(results_df)"
   ]
  },
  {
   "cell_type": "code",
   "execution_count": 25,
   "metadata": {},
   "outputs": [],
   "source": [
    "# Calculate the baseline MSE based on the minimum MSE among the models\n",
    "baseline_mse = results_df['MSE'].min()\n",
    "\n",
    "# Compare results and save the best model if it meets the criteria\n",
    "best_model_name = results_df.loc[results_df['MSE'].idxmin(), 'Model Name']\n",
    "best_model_mse = results_df.loc[results_df['MSE'].idxmin(), 'MSE']\n",
    "\n",
    "# Get the best model object based on the best_model_name\n",
    "if best_model_name == 'Linear Before Tuning':\n",
    "    best_model = perform_linear_regression\n",
    "elif best_model_name == 'Linear After Tuning':\n",
    "    best_model = perform_tuned_regression\n",
    "elif best_model_name == 'XGBoost Before Tuning':\n",
    "    best_model = train_xgboost_model\n",
    "elif best_model_name == 'XGBoost After Tuning':\n",
    "    best_model = train_xgboost_model_tuned\n",
    "else:\n",
    "    best_model = None\n",
    "\n",
    "\n"
   ]
  },
  {
   "cell_type": "code",
   "execution_count": 28,
   "metadata": {},
   "outputs": [
    {
     "name": "stdout",
     "output_type": "stream",
     "text": [
      "Model saved successfully as: D:\\Python\\Stock_price_prediction\\Stock_price_prediction\\models\\best_model.pkl\n",
      "Best model saved successfully.\n"
     ]
    },
    {
     "name": "stderr",
     "output_type": "stream",
     "text": [
      "<>:1: SyntaxWarning: invalid escape sequence '\\P'\n",
      "<>:1: SyntaxWarning: invalid escape sequence '\\P'\n",
      "C:\\Users\\hits-\\AppData\\Local\\Temp\\ipykernel_160\\1802227296.py:1: SyntaxWarning: invalid escape sequence '\\P'\n",
      "  model_dir = \"D:\\Python\\Stock_price_prediction\\Stock_price_prediction\\models\"\n"
     ]
    }
   ],
   "source": [
    "model_dir = \"D:\\Python\\Stock_price_prediction\\Stock_price_prediction\\models\"\n",
    "# Save the best model if it's not None\n",
    "if best_model is not None:\n",
    "    save_model(best_model, model_dir)\n",
    "    print(\"Best model saved successfully.\")\n",
    "else:\n",
    "    print(\"No improvement in model performance. Best model not saved.\")"
   ]
  },
  {
   "cell_type": "code",
   "execution_count": null,
   "metadata": {},
   "outputs": [],
   "source": []
  },
  {
   "cell_type": "code",
   "execution_count": null,
   "metadata": {},
   "outputs": [],
   "source": []
  }
 ],
 "metadata": {
  "kernelspec": {
   "display_name": "Python 3",
   "language": "python",
   "name": "python3"
  },
  "language_info": {
   "codemirror_mode": {
    "name": "ipython",
    "version": 3
   },
   "file_extension": ".py",
   "mimetype": "text/x-python",
   "name": "python",
   "nbconvert_exporter": "python",
   "pygments_lexer": "ipython3",
   "version": "3.12.0"
  }
 },
 "nbformat": 4,
 "nbformat_minor": 2
}
